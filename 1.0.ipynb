{
 "cells": [
  {
   "cell_type": "code",
   "execution_count": 1,
   "metadata": {},
   "outputs": [
    {
     "name": "stderr",
     "output_type": "stream",
     "text": [
      "Using TensorFlow backend.\n"
     ]
    }
   ],
   "source": [
    "import numpy as np\n",
    "import pandas as pd\n",
    "from keras import models, regularizers, layers, optimizers, losses, metrics\n",
    "from keras.models import Sequential\n",
    "from keras.layers import Dense, Flatten, MaxPooling2D, Conv2D\n",
    "from keras.utils import np_utils, to_categorical\n",
    "from keras.datasets import mnist"
   ]
  },
  {
   "cell_type": "code",
   "execution_count": 2,
   "metadata": {},
   "outputs": [],
   "source": [
    "train = pd.read_csv('data/train.csv')\n",
    "test = pd.read_csv('data/test.csv')"
   ]
  },
  {
   "cell_type": "code",
   "execution_count": 3,
   "metadata": {},
   "outputs": [
    {
     "name": "stdout",
     "output_type": "stream",
     "text": [
      "train with Labels  : (42000, 785)\n",
      "train_labelsKaggle : (42000,)\n",
      "train_imagesKaggle without Labels : (42000, 784)\n",
      "test_imagesKaggle  : (28000, 784)\n"
     ]
    }
   ],
   "source": [
    "test_imagesKaggle = test.copy()\n",
    "train_labelsKaggle = train['label']\n",
    "\n",
    "print(\"train with Labels  :\", train.shape)\n",
    "print(\"train_labelsKaggle :\", train_labelsKaggle.shape)\n",
    "\n",
    "train.drop(['label'],axis=1, inplace=True)\n",
    "train_imagesKaggle = train\n",
    "\n",
    "print(\"train_imagesKaggle without Labels :\", train_imagesKaggle.shape)\n",
    "print(\"test_imagesKaggle  :\", test_imagesKaggle.shape)"
   ]
  },
  {
   "cell_type": "code",
   "execution_count": 4,
   "metadata": {},
   "outputs": [
    {
     "name": "stdout",
     "output_type": "stream",
     "text": [
      "train_imagesKaggle : (42000, 28, 28, 1)\n",
      "test_imagesKaggle : (28000, 28, 28, 1)\n",
      "train_labelsKaggle : (42000, 10)\n"
     ]
    }
   ],
   "source": [
    "train_imagesKaggle = np.array(train_imagesKaggle).reshape(42000, 28, 28, 1).astype('float32') / 255\n",
    "test_imagesKaggle = np.array(test_imagesKaggle).reshape(28000, 28, 28, 1).astype('float32') / 255\n",
    "\n",
    "print('train_imagesKaggle :', train_imagesKaggle.shape)\n",
    "print('test_imagesKaggle :', test_imagesKaggle.shape)\n",
    "\n",
    "train_labelsKaggle = to_categorical(train_labelsKaggle)\n",
    "print('train_labelsKaggle :', train_labelsKaggle.shape)"
   ]
  },
  {
   "cell_type": "code",
   "execution_count": 5,
   "metadata": {},
   "outputs": [],
   "source": [
    "(train_imagesKeras, train_labelsKeras), (test_imagesKeras, test_labelsKeras) = mnist.load_data()"
   ]
  },
  {
   "cell_type": "code",
   "execution_count": 6,
   "metadata": {},
   "outputs": [
    {
     "name": "stdout",
     "output_type": "stream",
     "text": [
      "train_imagesKeras : (60000, 28, 28, 1)\n",
      "train_labelsKeras : (60000,)\n",
      "test_imagesKeras : (10000, 28, 28, 1)\n",
      "test_labelsKeras : (10000,)\n",
      "train_labelsKeras : (60000, 10)\n",
      "test_labelsKeras : (10000, 10)\n"
     ]
    }
   ],
   "source": [
    "train_imagesKeras = train_imagesKeras.reshape(60000, 28, 28, 1).astype('float32') / 255\n",
    "test_imagesKeras = test_imagesKeras.reshape(10000, 28, 28, 1).astype('float32') / 255\n",
    "\n",
    "print('train_imagesKeras :' , train_imagesKeras.shape)\n",
    "print('train_labelsKeras :', train_labelsKeras.shape)\n",
    "print('test_imagesKeras :', test_imagesKeras.shape)\n",
    "print('test_labelsKeras :', test_labelsKeras.shape)\n",
    "\n",
    "train_labelsKeras = to_categorical(train_labelsKeras)\n",
    "test_labelsKeras =  to_categorical(test_labelsKeras)\n",
    "print('train_labelsKeras :', train_labelsKeras.shape)\n",
    "print('test_labelsKeras :', test_labelsKeras.shape)"
   ]
  },
  {
   "cell_type": "code",
   "execution_count": 7,
   "metadata": {},
   "outputs": [
    {
     "name": "stdout",
     "output_type": "stream",
     "text": [
      "Train_images : (102000, 28, 28, 1)\n",
      "Train_labels : (102000, 10)\n"
     ]
    }
   ],
   "source": [
    "train_images = np.concatenate((train_imagesKeras, train_imagesKaggle), axis=0)\n",
    "print('Train_images :', train_images.shape)\n",
    "\n",
    "train_labels = np.concatenate((train_labelsKeras, train_labelsKaggle), axis=0)\n",
    "print('Train_labels :', train_labels.shape)"
   ]
  },
  {
   "cell_type": "code",
   "execution_count": 8,
   "metadata": {},
   "outputs": [],
   "source": [
    "model = Sequential()\n",
    "\n",
    "model.add(Conv2D(32, (3,3), activation='relu', input_shape=(28, 28, 1)))\n",
    "model.add(MaxPooling2D(pool_size=(2,2)))\n",
    "\n",
    "model.add(Conv2D(64, (3,3), activation='relu'))\n",
    "model.add(MaxPooling2D(pool_size=(2,2)))\n",
    "\n",
    "model.add(Conv2D(64, (3,3), activation='relu'))\n",
    "\n",
    "model.add(Flatten())\n",
    "\n",
    "model.add(Dense(64, activation='relu'))\n",
    "model.add(Dense(10, activation='softmax'))"
   ]
  },
  {
   "cell_type": "code",
   "execution_count": 9,
   "metadata": {},
   "outputs": [],
   "source": [
    "model.compile(optimizer='rmsprop', loss='categorical_crossentropy', metrics=['acc'])"
   ]
  },
  {
   "cell_type": "code",
   "execution_count": 10,
   "metadata": {},
   "outputs": [
    {
     "name": "stdout",
     "output_type": "stream",
     "text": [
      "train_images : (112000, 28, 28, 1)\n",
      "train_labels : (112000, 10)\n"
     ]
    }
   ],
   "source": [
    "train_images = np.concatenate((train_images, test_imagesKeras), axis=0)\n",
    "print(\"train_images :\", train_images.shape)\n",
    "\n",
    "train_labels = np.concatenate((train_labels, test_labelsKeras), axis=0)\n",
    "print(\"train_labels :\", train_labels.shape)"
   ]
  },
  {
   "cell_type": "code",
   "execution_count": 26,
   "metadata": {},
   "outputs": [
    {
     "name": "stdout",
     "output_type": "stream",
     "text": [
      "Epoch 1/3\n",
      "112000/112000 [==============================] - 2s 18us/step - loss: 2.9127e-04 - acc: 1.0000\n",
      "Epoch 2/3\n",
      "112000/112000 [==============================] - 2s 17us/step - loss: 9.6654e-04 - acc: 0.9998\n",
      "Epoch 3/3\n",
      "112000/112000 [==============================] - 2s 18us/step - loss: 2.9502e-04 - acc: 1.0000\n"
     ]
    }
   ],
   "source": [
    "history = model.fit(train_images, train_labels, epochs=3 ,batch_size=2048).history"
   ]
  },
  {
   "cell_type": "code",
   "execution_count": 27,
   "metadata": {},
   "outputs": [],
   "source": [
    "raw_pred = model.predict(test_imagesKaggle)\n",
    "pred_list = []\n",
    "numTest = raw_pred.shape[0]\n",
    "\n",
    "for i in range(numTest):\n",
    "    pred_list.append(np.argmax(raw_pred[i]))\n",
    "\n",
    "pred = np.array(pred_list)"
   ]
  },
  {
   "cell_type": "code",
   "execution_count": 28,
   "metadata": {},
   "outputs": [],
   "source": [
    "sub = pd.read_csv('data/sample_submission.csv')\n",
    "\n",
    "result = pd.DataFrame({'ImageId' : sub.ImageId, 'Label' : pred})\n",
    "result.to_csv('sub.csv', index=False)"
   ]
  },
  {
   "cell_type": "code",
   "execution_count": null,
   "metadata": {},
   "outputs": [],
   "source": []
  }
 ],
 "metadata": {
  "kernelspec": {
   "display_name": "Python 3",
   "language": "python",
   "name": "python3"
  },
  "language_info": {
   "codemirror_mode": {
    "name": "ipython",
    "version": 3
   },
   "file_extension": ".py",
   "mimetype": "text/x-python",
   "name": "python",
   "nbconvert_exporter": "python",
   "pygments_lexer": "ipython3",
   "version": "3.6.5"
  }
 },
 "nbformat": 4,
 "nbformat_minor": 2
}
